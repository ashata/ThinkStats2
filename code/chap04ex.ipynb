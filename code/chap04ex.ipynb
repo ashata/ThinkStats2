{
 "cells": [
  {
   "cell_type": "markdown",
   "metadata": {},
   "source": [
    "# Examples and Exercises from Think Stats, 2nd Edition\n",
    "\n",
    "http://thinkstats2.com\n",
    "\n",
    "Copyright 2016 Allen B. Downey\n",
    "\n",
    "MIT License: https://opensource.org/licenses/MIT\n"
   ]
  },
  {
   "cell_type": "code",
   "execution_count": 1,
   "metadata": {},
   "outputs": [],
   "source": [
    "from __future__ import print_function, division\n",
    "\n",
    "%matplotlib inline\n",
    "\n",
    "import numpy as np\n",
    "\n",
    "import nsfg\n",
    "import first\n",
    "import thinkstats2\n",
    "import thinkplot"
   ]
  },
  {
   "cell_type": "markdown",
   "metadata": {},
   "source": [
    "## Examples\n",
    "\n",
    "One more time, I'll load the data from the NSFG."
   ]
  },
  {
   "cell_type": "code",
   "execution_count": 2,
   "metadata": {
    "collapsed": true
   },
   "outputs": [],
   "source": [
    "live, firsts, others = first.MakeFrames()"
   ]
  },
  {
   "cell_type": "markdown",
   "metadata": {},
   "source": [
    "And compute the distribution of birth weight for first babies and others."
   ]
  },
  {
   "cell_type": "code",
   "execution_count": 6,
   "metadata": {},
   "outputs": [
    {
     "name": "stdout",
     "output_type": "stream",
     "text": [
      "False    4363\n",
      "True       50\n",
      "Name: totalwgt_lb, dtype: int64\n",
      "Firsts 4413 4363\n",
      "False    4675\n",
      "True       60\n",
      "Name: totalwgt_lb, dtype: int64\n",
      "Others 4735 4675\n"
     ]
    }
   ],
   "source": [
    "first_wgt = firsts.totalwgt_lb\n",
    "print(first_wgt.isnull().value_counts())\n",
    "first_wgt_dropna = first_wgt.dropna()\n",
    "print('Firsts', len(first_wgt), len(first_wgt_dropna))\n",
    " \n",
    "other_wgt = others.totalwgt_lb\n",
    "print(other_wgt.isnull().value_counts())\n",
    "other_wgt_dropna = other_wgt.dropna()\n",
    "print('Others', len(other_wgt), len(other_wgt_dropna))\n",
    "\n",
    "first_pmf = thinkstats2.Pmf(first_wgt_dropna, label='first')\n",
    "other_pmf = thinkstats2.Pmf(other_wgt_dropna, label='other')"
   ]
  },
  {
   "cell_type": "markdown",
   "metadata": {},
   "source": [
    "We can plot the PMFs on the same scale, but it is hard to see if there is a difference."
   ]
  },
  {
   "cell_type": "code",
   "execution_count": 8,
   "metadata": {},
   "outputs": [
    {
     "data": {
      "image/png": "[encoded data removed]",
      "text/plain": [
       "<matplotlib.figure.Figure at 0x169a2a14470>"
      ]
     },
     "metadata": {},
     "output_type": "display_data"
    }
   ],
   "source": [
    "width = 0.4 / 16\n",
    "\n",
    "# plot PMFs of birth weights for first babies and others\n",
    "thinkplot.PrePlot(2)\n",
    "thinkplot.Hist(first_pmf, align='right', width=width, color=\"magenta\")\n",
    "thinkplot.Hist(other_pmf, align='left', width=width, color=\"blue\")\n",
    "thinkplot.Config(xlabel='Weight (pounds)', ylabel='PMF')"
   ]
  },
  {
   "cell_type": "markdown",
   "metadata": {},
   "source": [
    "`PercentileRank` computes the fraction of `scores` less than or equal to `your_score`."
   ]
  },
  {
   "cell_type": "code",
   "execution_count": 9,
   "metadata": {
    "collapsed": true
   },
   "outputs": [],
   "source": [
    "def PercentileRank(scores, your_score):\n",
    "    count = 0\n",
    "    for score in scores:\n",
    "        if score <= your_score:\n",
    "            count += 1\n",
    "\n",
    "    percentile_rank = 100.0 * count / len(scores)\n",
    "    return percentile_rank"
   ]
  },
  {
   "cell_type": "markdown",
   "metadata": {},
   "source": [
    "If this is the list of scores."
   ]
  },
  {
   "cell_type": "code",
   "execution_count": 10,
   "metadata": {
    "collapsed": true
   },
   "outputs": [],
   "source": [
    "t = [55, 66, 77, 88, 99]"
   ]
  },
  {
   "cell_type": "markdown",
   "metadata": {},
   "source": [
    "And you got the 88, your percentile rank is 80."
   ]
  },
  {
   "cell_type": "code",
   "execution_count": 11,
   "metadata": {},
   "outputs": [
    {
     "data": {
      "text/plain": [
       "80.0"
      ]
     },
     "execution_count": 11,
     "metadata": {},
     "output_type": "execute_result"
    }
   ],
   "source": [
    "PercentileRank(t, 88)"
   ]
  },
  {
   "cell_type": "markdown",
   "metadata": {},
   "source": [
    "`Percentile` takes a percentile rank and computes the corresponding percentile. "
   ]
  },
  {
   "cell_type": "code",
   "execution_count": 12,
   "metadata": {
    "collapsed": true
   },
   "outputs": [],
   "source": [
    "def Percentile(scores, percentile_rank):\n",
    "    scores.sort()\n",
    "    for score in scores:\n",
    "        if PercentileRank(scores, score) >= percentile_rank:\n",
    "            return score"
   ]
  },
  {
   "cell_type": "markdown",
   "metadata": {},
   "source": [
    "The median is the 50th percentile, which is 77."
   ]
  },
  {
   "cell_type": "code",
   "execution_count": 14,
   "metadata": {},
   "outputs": [
    {
     "data": {
      "text/plain": [
       "88"
      ]
     },
     "execution_count": 14,
     "metadata": {},
     "output_type": "execute_result"
    }
   ],
   "source": [
    "Percentile(t, 80)"
   ]
  },
  {
   "cell_type": "markdown",
   "metadata": {},
   "source": [
    "Here's a more efficient way to compute percentiles."
   ]
  },
  {
   "cell_type": "code",
   "execution_count": 15,
   "metadata": {
    "collapsed": true
   },
   "outputs": [],
   "source": [
    "def Percentile2(scores, percentile_rank):\n",
    "    scores.sort()\n",
    "    index = percentile_rank * (len(scores)-1) // 100\n",
    "    return scores[index]"
   ]
  },
  {
   "cell_type": "markdown",
   "metadata": {},
   "source": [
    "Let's hope we get the same answer."
   ]
  },
  {
   "cell_type": "code",
   "execution_count": 16,
   "metadata": {},
   "outputs": [
    {
     "data": {
      "text/plain": [
       "88"
      ]
     },
     "execution_count": 16,
     "metadata": {},
     "output_type": "execute_result"
    }
   ],
   "source": [
    "Percentile2(t, 80)"
   ]
  },
  {
   "cell_type": "markdown",
   "metadata": {},
   "source": [
    "The Cumulative Distribution Function (CDF) is almost the same as `PercentileRank`.  The only difference is that the result is 0-1 instead of 0-100."
   ]
  },
  {
   "cell_type": "code",
   "execution_count": 17,
   "metadata": {
    "collapsed": true
   },
   "outputs": [],
   "source": [
    "def EvalCdf(sample, x):\n",
    "    count = 0.0\n",
    "    for value in sample:\n",
    "        if value <= x:\n",
    "            count += 1\n",
    "\n",
    "    prob = count / len(sample)\n",
    "    return prob"
   ]
  },
  {
   "cell_type": "markdown",
   "metadata": {},
   "source": [
    "In this list"
   ]
  },
  {
   "cell_type": "code",
   "execution_count": 18,
   "metadata": {
    "collapsed": true
   },
   "outputs": [],
   "source": [
    "t = [1, 2, 2, 3, 5]"
   ]
  },
  {
   "cell_type": "markdown",
   "metadata": {},
   "source": [
    "We can evaluate the CDF for various values:"
   ]
  },
  {
   "cell_type": "code",
   "execution_count": 19,
   "metadata": {},
   "outputs": [
    {
     "data": {
      "text/plain": [
       "(0.0, 0.2, 0.6, 0.8, 0.8, 1.0)"
      ]
     },
     "execution_count": 19,
     "metadata": {},
     "output_type": "execute_result"
    }
   ],
   "source": [
    "EvalCdf(t, 0), EvalCdf(t, 1), EvalCdf(t, 2), EvalCdf(t, 3), EvalCdf(t, 4), EvalCdf(t, 5)"
   ]
  },
  {
   "cell_type": "markdown",
   "metadata": {},
   "source": [
    "Here's an example using real data, the distribution of pregnancy length for live births."
   ]
  },
  {
   "cell_type": "code",
   "execution_count": 20,
   "metadata": {},
   "outputs": [
    {
     "data": {
      "image/png": "[encoded data removed]",
      "text/plain": [
       "<matplotlib.figure.Figure at 0x169a16c5400>"
      ]
     },
     "metadata": {},
     "output_type": "display_data"
    }
   ],
   "source": [
    "cdf = thinkstats2.Cdf(live.prglngth, label='prglngth')\n",
    "thinkplot.Cdf(cdf)\n",
    "thinkplot.Config(xlabel='Pregnancy length (weeks)', ylabel='CDF', loc='upper left')"
   ]
  },
  {
   "cell_type": "markdown",
   "metadata": {},
   "source": [
    "`Cdf` provides `Prob`, which evaluates the CDF; that is, it computes the fraction of values less than or equal to the given value.  For example, 94% of pregnancy lengths are less than or equal to 41."
   ]
  },
  {
   "cell_type": "code",
   "execution_count": 21,
   "metadata": {},
   "outputs": [
    {
     "data": {
      "text/plain": [
       "0.94064276344556186"
      ]
     },
     "execution_count": 21,
     "metadata": {},
     "output_type": "execute_result"
    }
   ],
   "source": [
    "cdf.Prob(41)"
   ]
  },
  {
   "cell_type": "markdown",
   "metadata": {
    "collapsed": true
   },
   "source": [
    "`Value` evaluates the inverse CDF; given a fraction, it computes the corresponding value.  For example, the median is the value that corresponds to 0.5."
   ]
  },
  {
   "cell_type": "code",
   "execution_count": 22,
   "metadata": {},
   "outputs": [
    {
     "data": {
      "text/plain": [
       "39"
      ]
     },
     "execution_count": 22,
     "metadata": {},
     "output_type": "execute_result"
    }
   ],
   "source": [
    "cdf.Value(0.5)"
   ]
  },
  {
   "cell_type": "markdown",
   "metadata": {},
   "source": [
    "In general, CDFs are a good way to visualize distributions.  They are not as noisy as PMFs, and if you plot several CDFs on the same axes, any differences between them are apparent."
   ]
  },
  {
   "cell_type": "code",
   "execution_count": 26,
   "metadata": {},
   "outputs": [
    {
     "data": {
      "image/png": "[encoded data removed]",
      "text/plain": [
       "<matplotlib.figure.Figure at 0x169a65c18d0>"
      ]
     },
     "metadata": {},
     "output_type": "display_data"
    }
   ],
   "source": [
    "first_cdf = thinkstats2.Cdf(firsts.totalwgt_lb, label='first')#, color=\"magenta\")\n",
    "other_cdf = thinkstats2.Cdf(others.totalwgt_lb, label='other')#, color=\"black\")\n",
    "\n",
    "thinkplot.PrePlot(2)\n",
    "thinkplot.Cdfs([first_cdf, other_cdf])\n",
    "thinkplot.Config(xlabel='Weight (pounds)', ylabel='CDF')"
   ]
  },
  {
   "cell_type": "markdown",
   "metadata": {},
   "source": [
    "In this example, we can see that first babies are slightly, but consistently, lighter than others.\n",
    "\n",
    "We can use the CDF of birth weight to compute percentile-based statistics."
   ]
  },
  {
   "cell_type": "code",
   "execution_count": 27,
   "metadata": {
    "collapsed": true
   },
   "outputs": [],
   "source": [
    "weights = live.totalwgt_lb\n",
    "live_cdf = thinkstats2.Cdf(weights, label='live')"
   ]
  },
  {
   "cell_type": "markdown",
   "metadata": {},
   "source": [
    "Again, the median is the 50th percentile."
   ]
  },
  {
   "cell_type": "code",
   "execution_count": 28,
   "metadata": {},
   "outputs": [
    {
     "data": {
      "text/plain": [
       "7.375"
      ]
     },
     "execution_count": 28,
     "metadata": {},
     "output_type": "execute_result"
    }
   ],
   "source": [
    "median = live_cdf.Percentile(50)\n",
    "median"
   ]
  },
  {
   "cell_type": "markdown",
   "metadata": {},
   "source": [
    "The interquartile range is the interval from the 25th to 75th percentile."
   ]
  },
  {
   "cell_type": "code",
   "execution_count": 29,
   "metadata": {},
   "outputs": [
    {
     "data": {
      "text/plain": [
       "(6.5, 8.125)"
      ]
     },
     "execution_count": 29,
     "metadata": {},
     "output_type": "execute_result"
    }
   ],
   "source": [
    "iqr = (live_cdf.Percentile(25), live_cdf.Percentile(75))\n",
    "iqr"
   ]
  },
  {
   "cell_type": "markdown",
   "metadata": {},
   "source": [
    "We can use the CDF to look up the percentile rank of a particular value.  For example, my second daughter was 10.2 pounds at birth, which is near the 99th percentile."
   ]
  },
  {
   "cell_type": "code",
   "execution_count": 30,
   "metadata": {},
   "outputs": [
    {
     "data": {
      "text/plain": [
       "98.827174153573807"
      ]
     },
     "execution_count": 30,
     "metadata": {},
     "output_type": "execute_result"
    }
   ],
   "source": [
    "live_cdf.PercentileRank(10.2)"
   ]
  },
  {
   "cell_type": "markdown",
   "metadata": {},
   "source": [
    "If we draw a random sample from the observed weights and map each weigh to its percentile rank."
   ]
  },
  {
   "cell_type": "code",
   "execution_count": 31,
   "metadata": {
    "collapsed": true
   },
   "outputs": [],
   "source": [
    "sample = np.random.choice(weights, 100, replace=True)\n",
    "ranks = [live_cdf.PercentileRank(x) for x in sample]"
   ]
  },
  {
   "cell_type": "markdown",
   "metadata": {},
   "source": [
    "The resulting list of ranks should be approximately uniform from 0-1."
   ]
  },
  {
   "cell_type": "code",
   "execution_count": 32,
   "metadata": {},
   "outputs": [
    {
     "data": {
      "image/png": "[encoded data removed]",
      "text/plain": [
       "<matplotlib.figure.Figure at 0x169a65c1cc0>"
      ]
     },
     "metadata": {},
     "output_type": "display_data"
    }
   ],
   "source": [
    "rank_cdf = thinkstats2.Cdf(ranks)\n",
    "thinkplot.Cdf(rank_cdf)\n",
    "thinkplot.Config(xlabel='Percentile rank', ylabel='CDF')"
   ]
  },
  {
   "cell_type": "markdown",
   "metadata": {},
   "source": [
    "That observation is the basis of `Cdf.Sample`, which generates a random sample from a Cdf.  Here's an example."
   ]
  },
  {
   "cell_type": "code",
   "execution_count": 37,
   "metadata": {},
   "outputs": [
    {
     "data": {
      "image/png": "[encoded data removed]",
      "text/plain": [
       "<matplotlib.figure.Figure at 0x169a61f4cf8>"
      ]
     },
     "metadata": {},
     "output_type": "display_data"
    }
   ],
   "source": [
    "resample = live_cdf.Sample(1000)\n",
    "thinkplot.Cdf(live_cdf)\n",
    "thinkplot.Cdf(thinkstats2.Cdf(resample, label='resample'))\n",
    "thinkplot.Config(xlabel='Birth weight (pounds)', ylabel='CDF')"
   ]
  },
  {
   "cell_type": "markdown",
   "metadata": {},
   "source": [
    "This confirms that the random sample has the same distribution as the original data."
   ]
  },
  {
   "cell_type": "markdown",
   "metadata": {
    "collapsed": true
   },
   "source": [
    "## Exercises"
   ]
  },
  {
   "cell_type": "markdown",
   "metadata": {
    "collapsed": true
   },
   "source": [
    "**Exercise:** How much did you weigh at birth? If you don’t know, call your mother or someone else who knows. Using the NSFG data (all live births), compute the distribution of birth weights and use it to find your percentile rank. If you were a first baby, find your percentile rank in the distribution for first babies. Otherwise use the distribution for others. If you are in the 90th percentile or higher, call your mother back and apologize."
   ]
  },
  {
   "cell_type": "code",
   "execution_count": 42,
   "metadata": {},
   "outputs": [],
   "source": [
    "# Solution goes here\n",
    "other_weights = others.totalwgt_lb\n",
    "others_cdf = thinkstats2.Cdf(other_weights, label='live')\n"
   ]
  },
  {
   "cell_type": "code",
   "execution_count": 45,
   "metadata": {},
   "outputs": [
    {
     "name": "stdout",
     "output_type": "stream",
     "text": [
      "7.375 26.6951871658 0.02186270223\n"
     ]
    }
   ],
   "source": [
    "# Solution goes here\n",
    "median = others_cdf.Percentile(50)\n",
    "print(median, others_cdf.PercentileRank(6.6), cdf.PercentileRank(6.6))"
   ]
  },
  {
   "cell_type": "markdown",
   "metadata": {
    "collapsed": true
   },
   "source": [
    "**Exercise:** The numbers generated by `numpy.random.random` are supposed to be uniform between 0 and 1; that is, every value in the range should have the same probability.\n",
    "\n",
    "Generate 1000 numbers from `numpy.random.random` and plot their PMF.  What goes wrong?\n",
    "\n",
    "Now plot the CDF. Is the distribution uniform?"
   ]
  },
  {
   "cell_type": "code",
   "execution_count": 46,
   "metadata": {},
   "outputs": [
    {
     "data": {
      "text/plain": [
       "array([  2.24162980e-01,   6.34397293e-01,   5.38461666e-01,\n",
       "         1.02115435e-01,   1.79765851e-01,   1.96904035e-01,\n",
       "         1.03853822e-01,   4.64112295e-01,   1.18688235e-01,\n",
       "         2.33549082e-03,   8.24756177e-01,   8.81639585e-02,\n",
       "         9.84514419e-02,   5.08898782e-01,   1.69216308e-01,\n",
       "         2.89121267e-01,   3.87264761e-01,   6.31260191e-01,\n",
       "         3.82110938e-01,   5.15249549e-01,   5.65119854e-01,\n",
       "         4.16631444e-01,   8.14652176e-01,   2.68163904e-01,\n",
       "         4.19477297e-01,   4.57476394e-01,   4.37964367e-01,\n",
       "         6.13818712e-01,   2.58875320e-01,   9.23188063e-01,\n",
       "         1.89444028e-01,   4.90173284e-01,   3.45243868e-02,\n",
       "         1.68139486e-01,   4.15556644e-01,   7.65028610e-01,\n",
       "         9.52134743e-01,   9.20497057e-01,   4.76988324e-01,\n",
       "         1.87105381e-02,   1.72742376e-01,   5.84995997e-01,\n",
       "         7.22297985e-01,   8.08770909e-01,   8.68231098e-01,\n",
       "         5.18841379e-01,   3.10275353e-01,   9.13613006e-04,\n",
       "         4.84073630e-01,   5.78087132e-01,   7.81443377e-01,\n",
       "         9.59346789e-01,   1.78826005e-02,   2.28563597e-01,\n",
       "         8.19948800e-01,   2.87359198e-01,   1.27935806e-01,\n",
       "         7.70240653e-01,   9.25413692e-01,   8.92371881e-01,\n",
       "         1.99404854e-01,   3.20913043e-01,   3.76288207e-01,\n",
       "         3.70160939e-02,   2.66409084e-02,   8.01647849e-01,\n",
       "         4.74014835e-01,   6.19126437e-01,   4.55340845e-01,\n",
       "         8.46706974e-01,   2.03372074e-01,   1.81998810e-01,\n",
       "         4.78388681e-01,   5.15923155e-02,   8.17999243e-01,\n",
       "         5.75355294e-01,   7.98382387e-01,   2.27162683e-01,\n",
       "         4.37463198e-01,   2.52723900e-01,   4.11690667e-01,\n",
       "         1.06361763e-01,   7.82373625e-01,   2.08609837e-01,\n",
       "         1.26735660e-01,   3.41816458e-01,   9.73198448e-01,\n",
       "         4.93633685e-01,   9.16414830e-01,   2.52618211e-01,\n",
       "         4.05205165e-01,   7.81185355e-01,   4.04511611e-01,\n",
       "         1.44134896e-01,   9.79974266e-01,   7.14035545e-01,\n",
       "         7.82917631e-01,   2.93793313e-01,   9.04711974e-01,\n",
       "         4.81933703e-01,   3.97860119e-02,   7.67901015e-01,\n",
       "         2.42519735e-01,   7.85194316e-01,   7.85773718e-01,\n",
       "         6.76086911e-01,   1.12390362e-02,   8.50667828e-01,\n",
       "         6.31008411e-01,   4.92752226e-01,   7.95133896e-01,\n",
       "         3.43330511e-01,   1.26541081e-01,   4.29045246e-01,\n",
       "         1.47268386e-01,   7.62341046e-01,   7.54428600e-01,\n",
       "         8.31171542e-01,   4.63379395e-01,   3.79605860e-01,\n",
       "         2.28172314e-01,   9.52112654e-01,   9.93371799e-01,\n",
       "         8.30250890e-01,   3.14728155e-01,   4.20710479e-01,\n",
       "         7.91538361e-01,   6.96570778e-01,   5.70364206e-01,\n",
       "         6.53422843e-01,   9.68252660e-01,   7.67007217e-01,\n",
       "         2.82228318e-02,   3.04571366e-01,   1.82442790e-02,\n",
       "         6.06472568e-01,   1.05957151e-01,   3.33956668e-01,\n",
       "         2.20912154e-02,   1.80805282e-01,   8.92696752e-01,\n",
       "         5.78793778e-01,   3.41410252e-01,   9.30265192e-01,\n",
       "         5.12260402e-01,   9.98520681e-01,   5.59561187e-01,\n",
       "         7.57364761e-01,   2.72854631e-03,   2.16980537e-01,\n",
       "         5.75715220e-01,   7.26586611e-02,   3.52889655e-01,\n",
       "         2.76595051e-01,   7.44764154e-01,   1.09075055e-01,\n",
       "         8.69137637e-02,   5.01913960e-01,   4.73219532e-01,\n",
       "         6.49299987e-01,   8.98548792e-01,   6.54801515e-02,\n",
       "         7.44572686e-01,   4.45029011e-01,   4.47658859e-02,\n",
       "         6.86926184e-01,   5.93129217e-01,   5.25850403e-01,\n",
       "         4.37363066e-01,   1.79741911e-01,   7.63246439e-02,\n",
       "         4.41411102e-01,   8.13791133e-01,   1.21322501e-01,\n",
       "         1.28065436e-01,   9.80246924e-01,   4.87991455e-01,\n",
       "         1.73529607e-01,   9.62176090e-01,   4.81408320e-01,\n",
       "         1.26219096e-01,   7.64959141e-01,   4.55572404e-01,\n",
       "         1.20318476e-01,   1.58451947e-01,   1.90684201e-01,\n",
       "         4.63228833e-01,   1.44272433e-01,   8.50535351e-01,\n",
       "         8.80172669e-01,   8.06172977e-01,   3.43337328e-01,\n",
       "         6.42970749e-01,   5.04989777e-01,   3.79933641e-01,\n",
       "         3.76425459e-01,   9.61799505e-02,   3.79775731e-01,\n",
       "         4.25831319e-01,   5.00460770e-02,   4.49465784e-01,\n",
       "         6.62802825e-01,   9.73391860e-01,   4.38444289e-02,\n",
       "         1.99157803e-01,   2.40215136e-01,   2.74314905e-01,\n",
       "         5.13578296e-01,   9.19822984e-01,   4.52624595e-01,\n",
       "         3.39974832e-02,   3.09489719e-02,   1.12661490e-01,\n",
       "         4.85613781e-01,   5.85100251e-01,   7.81095049e-01,\n",
       "         5.81402513e-01,   8.97275686e-01,   7.15875410e-01,\n",
       "         8.86137891e-02,   6.73910402e-01,   3.98640438e-01,\n",
       "         7.80805118e-01,   4.12066896e-01,   7.63835841e-01,\n",
       "         6.65061662e-01,   8.21303468e-01,   9.44443847e-01,\n",
       "         1.66802771e-01,   3.37648002e-01,   2.68706032e-02,\n",
       "         6.54919413e-01,   7.92355809e-01,   5.42191618e-01,\n",
       "         3.76702769e-01,   5.44183442e-01,   5.30444811e-01,\n",
       "         7.07439088e-01,   9.52756106e-01,   3.86616871e-01,\n",
       "         9.25609989e-01,   9.42900331e-01,   2.56755478e-01,\n",
       "         3.54947819e-02,   2.68214984e-01,   3.43437505e-01,\n",
       "         2.49452860e-01,   9.28409757e-02,   1.36274533e-01,\n",
       "         5.51397781e-01,   4.09040725e-01,   6.35748448e-01,\n",
       "         3.48556269e-01,   4.07690150e-01,   6.48905213e-02,\n",
       "         5.76351280e-01,   7.57584087e-03,   3.84464283e-01,\n",
       "         2.32041633e-01,   3.93170153e-01,   5.17976972e-01,\n",
       "         9.58508277e-01,   9.08741397e-01,   9.59326464e-01,\n",
       "         3.22671012e-01,   8.81155630e-01,   9.31822465e-01,\n",
       "         2.55597844e-01,   5.28088541e-02,   7.44573304e-01,\n",
       "         2.05736078e-01,   9.97493515e-01,   8.67880174e-01,\n",
       "         1.05818752e-01,   1.39736766e-01,   6.60853085e-01,\n",
       "         9.09969906e-01,   1.06692765e-01,   2.54392369e-01,\n",
       "         1.86594736e-01,   1.14910459e-01,   1.40080170e-01,\n",
       "         8.00644678e-01,   3.69821774e-01,   7.90738409e-01,\n",
       "         3.74010542e-01,   4.85871557e-02,   1.22769602e-01,\n",
       "         8.62174425e-01,   1.43021383e-01,   7.76154913e-01,\n",
       "         1.25163466e-01,   1.05313454e-01,   2.58780625e-01,\n",
       "         3.86965067e-01,   1.90298189e-01,   2.61572184e-01,\n",
       "         2.68857705e-01,   9.36190755e-01,   5.21042887e-01,\n",
       "         1.03500254e-01,   2.93376068e-01,   4.63034271e-01,\n",
       "         2.43011914e-01,   9.38842653e-01,   1.42573464e-01,\n",
       "         4.25690498e-01,   2.26441664e-01,   2.59772208e-02,\n",
       "         4.43256630e-01,   6.69271200e-01,   1.22218380e-01,\n",
       "         9.70744409e-01,   9.15568568e-01,   2.11236172e-01,\n",
       "         2.78793648e-01,   3.50578524e-01,   8.59275504e-01,\n",
       "         7.81270367e-01,   9.36612411e-02,   6.87900678e-01,\n",
       "         5.78749349e-01,   2.04793671e-01,   7.55203092e-01,\n",
       "         2.61780250e-01,   6.56742238e-01,   2.45651885e-01,\n",
       "         3.92015967e-01,   7.50384483e-01,   6.84811680e-01,\n",
       "         9.27418082e-01,   2.75678523e-01,   1.04899326e-01,\n",
       "         6.44060723e-01,   7.83323042e-01,   9.03094427e-01,\n",
       "         4.40550735e-01,   9.24266996e-01,   9.51751662e-01,\n",
       "         3.49988845e-01,   5.66602905e-02,   1.80954343e-01,\n",
       "         2.53142069e-01,   4.22052742e-01,   4.90102676e-01,\n",
       "         1.30740724e-01,   4.17351483e-01,   7.10818049e-01,\n",
       "         8.18443461e-01,   3.57223688e-01,   6.31746915e-01,\n",
       "         5.08957346e-01,   8.86146489e-01,   7.12209763e-01,\n",
       "         5.87553673e-01,   4.66704466e-02,   5.89731495e-01,\n",
       "         3.57126752e-01,   9.56285727e-02,   8.89117738e-01,\n",
       "         5.53899335e-01,   5.69721711e-01,   1.72685774e-01,\n",
       "         5.67423052e-01,   8.83398157e-01,   2.73752952e-01,\n",
       "         6.01224674e-01,   7.35243362e-01,   1.05591341e-01,\n",
       "         7.15957612e-01,   2.15648018e-01,   8.16142089e-01,\n",
       "         5.49732611e-01,   4.05286583e-01,   4.47424683e-01,\n",
       "         1.38151152e-02,   9.50237779e-01,   1.28645445e-01,\n",
       "         4.24380956e-01,   7.29929882e-01,   4.77104618e-01,\n",
       "         1.45435453e-01,   6.33692797e-01,   6.04771082e-01,\n",
       "         5.43219496e-01,   7.66525244e-01,   8.64291363e-01,\n",
       "         8.20360413e-01,   7.92582597e-03,   7.47957970e-01,\n",
       "         5.19502431e-01,   2.03330427e-01,   8.94799411e-01,\n",
       "         4.68125760e-01,   3.96694810e-01,   3.19194464e-01,\n",
       "         8.69170973e-01,   1.89569260e-01,   8.88010304e-01,\n",
       "         5.56718468e-01,   7.71826781e-01,   5.55489233e-01,\n",
       "         9.08502975e-01,   2.02093524e-01,   3.77194046e-01,\n",
       "         3.86091619e-01,   7.16255832e-01,   4.12353525e-01,\n",
       "         5.23891617e-01,   4.42257367e-01,   9.94149591e-01,\n",
       "         7.76530952e-01,   7.20489742e-01,   3.05666433e-01,\n",
       "         5.63307394e-01,   1.39217525e-01,   8.59983578e-04,\n",
       "         5.02840349e-01,   1.65986614e-01,   9.08018122e-01,\n",
       "         8.77232858e-01,   8.22289557e-01,   2.62243178e-01,\n",
       "         3.49837231e-01,   3.35811465e-01,   2.15964833e-01,\n",
       "         5.48961027e-01,   7.55301448e-01,   7.49429977e-01,\n",
       "         6.52600351e-01,   7.92078508e-01,   9.84114853e-01,\n",
       "         3.91179753e-01,   8.53659803e-01,   8.37675946e-01,\n",
       "         8.43925697e-01,   2.87293370e-01,   8.52526221e-01,\n",
       "         4.90336082e-01,   1.17948680e-01,   9.63843397e-01,\n",
       "         9.78609890e-01,   5.12337889e-01,   1.19753910e-01,\n",
       "         9.05203607e-01,   9.38083170e-01,   3.18225227e-01,\n",
       "         1.77578171e-01,   5.44983889e-01,   6.89850728e-01,\n",
       "         7.05298680e-01,   6.99897448e-01,   8.67163666e-01,\n",
       "         7.26015981e-02,   6.64153967e-01,   4.84142159e-01,\n",
       "         2.54163627e-01,   6.63383763e-01,   6.80638320e-01,\n",
       "         9.48674305e-01,   7.15860775e-01,   4.59690367e-01,\n",
       "         1.47331337e-01,   4.24719351e-01,   3.15037940e-01,\n",
       "         7.00902449e-01,   6.18013938e-01,   4.00273890e-01,\n",
       "         5.25330755e-01,   7.89916321e-01,   8.14834101e-01,\n",
       "         1.68819413e-01,   4.30426523e-01,   8.52165890e-01,\n",
       "         7.88246417e-02,   5.83475711e-02,   3.34635069e-01,\n",
       "         7.36885920e-01,   6.62559033e-01,   4.37923619e-02,\n",
       "         8.96766327e-01,   6.82765598e-01,   8.58673731e-01,\n",
       "         1.94898522e-01,   6.99794715e-01,   6.93711894e-01,\n",
       "         6.94835859e-01,   4.15526681e-01,   2.37404793e-01,\n",
       "         3.55981284e-01,   8.73099340e-01,   7.42683560e-01,\n",
       "         8.93179362e-01,   1.55364177e-01,   6.09466380e-01,\n",
       "         4.43567431e-01,   9.25658782e-01,   8.19477201e-01,\n",
       "         7.79403950e-01,   3.00643664e-01,   2.09594646e-01,\n",
       "         1.67318554e-02,   4.23437214e-01,   1.61497971e-02,\n",
       "         9.18893970e-01,   6.54941971e-01,   6.84542036e-01,\n",
       "         2.32732148e-01,   6.56469236e-01,   8.18696425e-01,\n",
       "         2.41235050e-01,   3.78411283e-01,   5.36745347e-01,\n",
       "         8.40287099e-01,   3.86481850e-01,   5.69063068e-01,\n",
       "         9.55368618e-01,   9.00674721e-01,   7.70007627e-01,\n",
       "         3.27953960e-01,   7.00273730e-01,   4.18397997e-01,\n",
       "         3.96992173e-01,   1.74182596e-01,   5.66169603e-01,\n",
       "         9.45693634e-01,   2.21602812e-01,   4.13802532e-01,\n",
       "         3.09192109e-01,   6.55996366e-01,   4.70853726e-01,\n",
       "         1.23338849e-02,   7.20283499e-01,   1.71353109e-01,\n",
       "         6.53181895e-01,   1.45296059e-01,   9.00487609e-01,\n",
       "         4.48217088e-01,   4.59321739e-01,   7.67603946e-01,\n",
       "         4.51458740e-01,   1.10515712e-01,   1.63974847e-01,\n",
       "         1.25344130e-01,   4.97524623e-01,   6.14354829e-01,\n",
       "         3.10726417e-01,   4.12991026e-01,   5.91653071e-02,\n",
       "         2.61345478e-01,   7.04255275e-01,   7.75629750e-01,\n",
       "         5.05402962e-01,   4.58211972e-01,   6.89002447e-01,\n",
       "         9.60900395e-01,   3.77126692e-01,   6.62323443e-01,\n",
       "         1.84894788e-01,   3.10650446e-02,   1.33348179e-01,\n",
       "         3.17128360e-01,   5.30171943e-01,   4.93812708e-01,\n",
       "         9.31309084e-01,   7.74848786e-01,   9.97735803e-01,\n",
       "         4.09203234e-01,   6.52221399e-01,   7.15953615e-01,\n",
       "         7.85878176e-01,   6.19354081e-01,   5.04320928e-01,\n",
       "         2.11509361e-01,   2.46127720e-01,   4.97904271e-03,\n",
       "         7.72017502e-01,   8.82226062e-01,   2.89723159e-01,\n",
       "         8.96927978e-01,   4.24920295e-01,   9.92697427e-02,\n",
       "         5.56149991e-01,   8.45905164e-01,   4.05567047e-01,\n",
       "         7.47934940e-01,   2.45900347e-01,   1.30146007e-01,\n",
       "         8.62011064e-01,   4.21687176e-01,   3.66799224e-01,\n",
       "         9.60301921e-01,   6.57027466e-01,   8.66180578e-01,\n",
       "         1.58073734e-01,   3.57924616e-01,   8.49897112e-01,\n",
       "         3.27038387e-01,   1.24435535e-01,   1.68580662e-01,\n",
       "         8.66164973e-01,   6.02826353e-01,   4.67171182e-01,\n",
       "         9.53567234e-01,   1.01487222e-01,   3.88878636e-01,\n",
       "         5.38049475e-01,   7.29813794e-01,   1.84633298e-01,\n",
       "         3.35665157e-01,   5.61335782e-01,   7.40715021e-01,\n",
       "         9.69559729e-01,   4.93500440e-01,   4.56780290e-01,\n",
       "         6.50930243e-02,   3.65005049e-02,   6.42801747e-01,\n",
       "         3.42515742e-01,   1.14053105e-01,   6.37430893e-01,\n",
       "         9.41017043e-01,   7.39441728e-01,   6.09269133e-01,\n",
       "         4.52139306e-01,   5.47996901e-01,   9.06676462e-02,\n",
       "         5.01592994e-01,   2.53736766e-01,   4.33393076e-01,\n",
       "         7.00333259e-01,   9.46967605e-01,   9.81663549e-01,\n",
       "         1.33101849e-01,   2.89359326e-01,   3.48579168e-02,\n",
       "         9.03685790e-01,   9.38048573e-01,   9.36829830e-01,\n",
       "         5.39183249e-01,   2.57994800e-01,   6.82592405e-01,\n",
       "         6.03408768e-01,   9.72782445e-01,   2.05132709e-02,\n",
       "         6.78117759e-01,   2.27907088e-01,   4.96442372e-01,\n",
       "         5.10689158e-01,   9.35081346e-01,   7.46678581e-01,\n",
       "         9.77694809e-01,   6.69556252e-01,   8.95719668e-01,\n",
       "         1.23305235e-01,   8.59661952e-01,   4.83302883e-01,\n",
       "         2.58449312e-01,   4.68641905e-01,   3.50327226e-01,\n",
       "         1.92011415e-01,   3.00677831e-01,   2.36040861e-01,\n",
       "         2.52540138e-01,   4.83212951e-02,   5.79207280e-01,\n",
       "         7.55922778e-01,   1.10177059e-02,   7.22871737e-01,\n",
       "         5.52072172e-01,   9.19982202e-01,   6.75354241e-02,\n",
       "         2.27488298e-01,   5.37229390e-02,   8.85205201e-01,\n",
       "         4.74766402e-01,   9.44886851e-01,   9.72942018e-01,\n",
       "         9.01369475e-01,   8.58428864e-01,   5.80450075e-01,\n",
       "         8.33414020e-03,   2.51856019e-01,   1.01952567e-01,\n",
       "         7.55456252e-01,   9.34288689e-01,   6.46414918e-01,\n",
       "         8.72364889e-01,   9.44905859e-01,   1.46715019e-01,\n",
       "         7.26894738e-01,   6.63718416e-01,   1.67766627e-01,\n",
       "         4.54430056e-01,   8.21993537e-01,   3.19425351e-01,\n",
       "         9.40093849e-01,   4.60213742e-01,   3.34669246e-01,\n",
       "         6.60104905e-01,   5.74922136e-01,   5.43007602e-01,\n",
       "         1.99473916e-01,   2.26121378e-01,   3.92377401e-01,\n",
       "         2.12442478e-01,   4.95712031e-01,   3.35666070e-01,\n",
       "         2.70477303e-01,   3.50223997e-01,   1.31732349e-01,\n",
       "         3.07274264e-01,   7.28632883e-01,   3.97371246e-01,\n",
       "         6.52037915e-01,   3.98025698e-01,   2.21303578e-02,\n",
       "         6.01975486e-01,   6.44704367e-01,   1.41273839e-01,\n",
       "         3.82839086e-01,   8.10889443e-01,   1.59232949e-01,\n",
       "         1.87355606e-01,   2.01385423e-01,   3.68863144e-01,\n",
       "         3.36497262e-01,   5.48680247e-01,   2.25262599e-01,\n",
       "         9.18188870e-01,   4.48415923e-01,   2.62076044e-01,\n",
       "         7.46557236e-02,   1.68186164e-02,   6.25631041e-01,\n",
       "         3.26733259e-01,   9.75492605e-01,   4.44435832e-01,\n",
       "         2.18226637e-01,   8.91531404e-01,   7.52761470e-01,\n",
       "         9.67941382e-01,   8.70146873e-01,   3.18413609e-01,\n",
       "         5.53985156e-01,   6.90137495e-01,   8.33333305e-02,\n",
       "         5.65077599e-01,   5.47075395e-01,   5.69430541e-01,\n",
       "         3.88498646e-01,   8.02820322e-01,   6.47629161e-01,\n",
       "         7.35920780e-01,   6.58271648e-02,   1.97168095e-01,\n",
       "         6.13086691e-01,   8.26016154e-01,   5.05067102e-01,\n",
       "         4.06429668e-01,   6.83375258e-01,   9.83565720e-02,\n",
       "         7.93921268e-01,   9.14115729e-01,   2.87275668e-01,\n",
       "         4.71220526e-01,   1.63696238e-01,   4.29708383e-01,\n",
       "         2.55030112e-02,   3.63664081e-01,   3.85542773e-01,\n",
       "         1.78076263e-01,   8.03669726e-01,   6.34760449e-01,\n",
       "         7.76105816e-01,   4.25462339e-01,   5.42915780e-01,\n",
       "         4.47255897e-01,   8.38408896e-01,   6.52948607e-01,\n",
       "         5.90416560e-01,   5.21443421e-01,   6.62566830e-01,\n",
       "         6.86546099e-01,   7.36470383e-01,   4.70283829e-01,\n",
       "         8.75138502e-01,   1.31908220e-01,   4.17520257e-01,\n",
       "         6.58257397e-01,   5.50998673e-01,   3.58775114e-01,\n",
       "         2.85928763e-01,   3.20692856e-01,   8.96983698e-01,\n",
       "         9.53893508e-01,   2.70683132e-01,   8.62235235e-01,\n",
       "         4.48262521e-01,   5.77376609e-01,   3.59407561e-01,\n",
       "         5.66518133e-01,   9.58401745e-01,   3.68682534e-01,\n",
       "         6.73734154e-02,   2.34246197e-01,   5.89776742e-01,\n",
       "         5.29448972e-01,   2.34291388e-01,   5.12142379e-01,\n",
       "         1.58032435e-03,   2.64115489e-01,   1.80273632e-01,\n",
       "         7.26519209e-01,   8.27918344e-01,   4.10047417e-01,\n",
       "         1.84862634e-01,   6.29068429e-01,   7.01687579e-01,\n",
       "         1.26981670e-01,   3.84053622e-01,   3.49301929e-01,\n",
       "         2.36834177e-02,   6.50292660e-01,   1.73337619e-01,\n",
       "         8.24015763e-01,   5.35265354e-01,   4.29287361e-01,\n",
       "         3.29059799e-01,   3.53545080e-02,   3.45370932e-01,\n",
       "         4.87850011e-01,   7.55828360e-01,   5.88986842e-01,\n",
       "         1.12692214e-01,   2.91625137e-02,   2.34023982e-01,\n",
       "         3.26736901e-01,   7.68655264e-01,   6.09232622e-01,\n",
       "         7.85375485e-01,   9.88462111e-01,   1.66984079e-01,\n",
       "         2.81798027e-02,   9.12608708e-01,   8.42460978e-01,\n",
       "         7.40741250e-01,   4.08472826e-01,   3.20248918e-01,\n",
       "         7.66868140e-01,   9.77764544e-01,   5.88091039e-01,\n",
       "         9.83001788e-01,   1.07555426e-01,   6.39325132e-02,\n",
       "         4.73347745e-01,   2.71669173e-01,   9.44247583e-01,\n",
       "         1.81418662e-01,   2.95615917e-01,   5.20096796e-02,\n",
       "         6.24533105e-01,   2.03666398e-01,   3.14078133e-01,\n",
       "         3.87598840e-01,   2.39014353e-01,   9.13611234e-01,\n",
       "         2.94866283e-01,   8.70992370e-01,   7.49086693e-01,\n",
       "         6.77326752e-01,   9.13571462e-03,   6.53906429e-01,\n",
       "         8.29071882e-01,   6.75486797e-01,   7.50925131e-01,\n",
       "         9.66501242e-02,   6.36527153e-01,   3.35394487e-01,\n",
       "         2.83907737e-01,   3.85097735e-01,   2.79181150e-01,\n",
       "         7.18835837e-01,   3.56265720e-01,   5.74968939e-01,\n",
       "         6.64436957e-02,   5.30107833e-02,   1.31858826e-01,\n",
       "         8.59964195e-01,   2.18433616e-01,   9.14003560e-01,\n",
       "         8.45483010e-01,   7.32509063e-01,   4.79705822e-01,\n",
       "         2.44891840e-01,   2.60153586e-01,   5.46229510e-01,\n",
       "         1.05745409e-01,   2.76313217e-01,   9.06805614e-01,\n",
       "         6.79845945e-01,   1.05405859e-02,   2.58418362e-01,\n",
       "         7.21632747e-01,   6.76821399e-01,   9.08016041e-01,\n",
       "         4.61375565e-01,   9.58356799e-02,   8.83496803e-01,\n",
       "         3.82789253e-02,   2.73615158e-01,   7.63909521e-01,\n",
       "         1.56539658e-01,   5.73996936e-01,   3.20218006e-01,\n",
       "         6.39888083e-01,   6.05746472e-01,   6.42388731e-01,\n",
       "         1.83998638e-01,   1.00407740e-01,   6.55080412e-01,\n",
       "         6.96689602e-01,   1.13266199e-01,   6.19416511e-01,\n",
       "         1.41097441e-01,   8.88618757e-01,   8.78616188e-02,\n",
       "         5.32344204e-01,   5.40965188e-01,   1.75231352e-01,\n",
       "         7.54019648e-01,   9.86865612e-01,   8.67847488e-01,\n",
       "         2.80951198e-01,   5.50586329e-01,   6.59455222e-01,\n",
       "         4.56579223e-01,   8.09981438e-01,   8.87157244e-01,\n",
       "         7.64806044e-02,   6.60246302e-01,   5.71326049e-01,\n",
       "         6.24971566e-02,   5.48414151e-02,   2.02782174e-01,\n",
       "         9.52592306e-01,   8.96999843e-01,   2.65151123e-01,\n",
       "         8.68776531e-01,   5.43270937e-01,   3.79166388e-01,\n",
       "         6.79065730e-01,   2.42651075e-01,   8.54522990e-01,\n",
       "         8.45076047e-01,   5.39566410e-01,   4.29033030e-01,\n",
       "         2.74910023e-01,   6.24920857e-01,   8.16736812e-02,\n",
       "         4.91230074e-01,   4.94297515e-01,   9.71490686e-01,\n",
       "         2.89991164e-01,   4.52611888e-01,   6.47395935e-01,\n",
       "         1.45151945e-01,   3.74347919e-01,   8.74043129e-01,\n",
       "         3.54419138e-01,   5.78962826e-01,   8.35546191e-01,\n",
       "         7.66865392e-02,   6.80070926e-01,   8.80888196e-01,\n",
       "         8.26774588e-01,   6.03679308e-01,   6.85779484e-01,\n",
       "         4.66127655e-01,   8.69100637e-01,   3.41255330e-01,\n",
       "         3.00882229e-01,   2.08057445e-01,   9.92647379e-01,\n",
       "         2.11708032e-01,   6.88437558e-02,   1.30213631e-01,\n",
       "         7.79695595e-01,   9.72841578e-01,   3.93260658e-01,\n",
       "         8.33992939e-01,   3.09748166e-01,   5.51595767e-01,\n",
       "         3.67486307e-01,   2.99979885e-01,   5.58374691e-01,\n",
       "         1.11372508e-02,   7.93743364e-01,   3.47086184e-03,\n",
       "         2.69440707e-01])"
      ]
     },
     "execution_count": 46,
     "metadata": {},
     "output_type": "execute_result"
    }
   ],
   "source": [
    "# Solution goes here\n",
    "random = np.random.random(1000)\n",
    "random"
   ]
  },
  {
   "cell_type": "code",
   "execution_count": 55,
   "metadata": {},
   "outputs": [
    {
     "data": {
      "image/png": "[encoded data removed]",
      "text/plain": [
       "<matplotlib.figure.Figure at 0x169a874a630>"
      ]
     },
     "metadata": {},
     "output_type": "display_data"
    }
   ],
   "source": [
    "# Solution\n",
    "\n",
    "random_pmf = thinkstats2.Pmf(random)\n",
    "thinkplot.Pmf(random_pmf, linewidth=0.1)\n",
    "thinkplot.Config(xlabel='Random variate', ylabel='PMF')"
   ]
  },
  {
   "cell_type": "code",
   "execution_count": 56,
   "metadata": {},
   "outputs": [
    {
     "data": {
      "image/png": "[encoded data removed]",
      "text/plain": [
       "<matplotlib.figure.Figure at 0x169a8a19cf8>"
      ]
     },
     "metadata": {},
     "output_type": "display_data"
    }
   ],
   "source": [
    "# Solution goes here\n",
    "random_cdf = thinkstats2.Cdf(random, label='live')\n",
    "thinkplot.Cdf(random_cdf)\n",
    "thinkplot.Config(xlabel='numbers', ylabel='CDF')"
   ]
  }
 ],
 "metadata": {
  "kernelspec": {
   "display_name": "Python 3",
   "language": "python",
   "name": "python3"
  },
  "language_info": {
   "codemirror_mode": {
    "name": "ipython",
    "version": 3
   },
   "file_extension": ".py",
   "mimetype": "text/x-python",
   "name": "python",
   "nbconvert_exporter": "python",
   "pygments_lexer": "ipython3",
   "version": "3.6.1"
  }
 },
 "nbformat": 4,
 "nbformat_minor": 1
}
